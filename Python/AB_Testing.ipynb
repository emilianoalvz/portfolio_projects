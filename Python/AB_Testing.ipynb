{
 "cells": [
  {
   "cell_type": "markdown",
   "id": "9f863645",
   "metadata": {},
   "source": [
    "# A/B Testing for ShoeFly.com"
   ]
  },
  {
   "cell_type": "markdown",
   "id": "c00da0ed",
   "metadata": {},
   "source": [
    "This will be an online shoe store analysis, through an A/B Test.   \n",
    "They have two different versions of an ad, which they have placed in emails, as well as in banner ads on Facebook, Twitter, and Google.  \n",
    "They want to know how the two ads are performing on each of the different platforms on each day of the week, by using aggregate measures.\n"
   ]
  },
  {
   "cell_type": "markdown",
   "id": "7ac031a7",
   "metadata": {},
   "source": [
    "## A/B Testing for ShoeFly.com"
   ]
  },
  {
   "cell_type": "code",
   "execution_count": 137,
   "id": "94da40b6",
   "metadata": {},
   "outputs": [],
   "source": [
    "# importing libraries\n",
    "import pandas as pd\n",
    "import numpy as np\n",
    "from matplotlib import pyplot as plt "
   ]
  },
  {
   "cell_type": "code",
   "execution_count": 27,
   "id": "416fde9e",
   "metadata": {},
   "outputs": [
    {
     "data": {
      "text/html": [
       "<div>\n",
       "<style scoped>\n",
       "    .dataframe tbody tr th:only-of-type {\n",
       "        vertical-align: middle;\n",
       "    }\n",
       "\n",
       "    .dataframe tbody tr th {\n",
       "        vertical-align: top;\n",
       "    }\n",
       "\n",
       "    .dataframe thead th {\n",
       "        text-align: right;\n",
       "    }\n",
       "</style>\n",
       "<table border=\"1\" class=\"dataframe\">\n",
       "  <thead>\n",
       "    <tr style=\"text-align: right;\">\n",
       "      <th></th>\n",
       "      <th>user_id</th>\n",
       "      <th>utm_source</th>\n",
       "      <th>day</th>\n",
       "      <th>ad_click_timestamp</th>\n",
       "      <th>experimental_group</th>\n",
       "    </tr>\n",
       "  </thead>\n",
       "  <tbody>\n",
       "    <tr>\n",
       "      <th>0</th>\n",
       "      <td>008b7c6c-7272-471e-b90e-930d548bd8d7</td>\n",
       "      <td>google</td>\n",
       "      <td>6 - Saturday</td>\n",
       "      <td>07:18</td>\n",
       "      <td>A</td>\n",
       "    </tr>\n",
       "    <tr>\n",
       "      <th>1</th>\n",
       "      <td>009abb94-5e14-4b6c-bb1c-4f4df7aa7557</td>\n",
       "      <td>facebook</td>\n",
       "      <td>7 - Sunday</td>\n",
       "      <td>NaN</td>\n",
       "      <td>B</td>\n",
       "    </tr>\n",
       "    <tr>\n",
       "      <th>2</th>\n",
       "      <td>00f5d532-ed58-4570-b6d2-768df5f41aed</td>\n",
       "      <td>twitter</td>\n",
       "      <td>2 - Tuesday</td>\n",
       "      <td>NaN</td>\n",
       "      <td>A</td>\n",
       "    </tr>\n",
       "    <tr>\n",
       "      <th>3</th>\n",
       "      <td>011adc64-0f44-4fd9-a0bb-f1506d2ad439</td>\n",
       "      <td>google</td>\n",
       "      <td>2 - Tuesday</td>\n",
       "      <td>NaN</td>\n",
       "      <td>B</td>\n",
       "    </tr>\n",
       "    <tr>\n",
       "      <th>4</th>\n",
       "      <td>012137e6-7ae7-4649-af68-205b4702169c</td>\n",
       "      <td>facebook</td>\n",
       "      <td>7 - Sunday</td>\n",
       "      <td>NaN</td>\n",
       "      <td>B</td>\n",
       "    </tr>\n",
       "  </tbody>\n",
       "</table>\n",
       "</div>"
      ],
      "text/plain": [
       "                                user_id utm_source           day  \\\n",
       "0  008b7c6c-7272-471e-b90e-930d548bd8d7     google  6 - Saturday   \n",
       "1  009abb94-5e14-4b6c-bb1c-4f4df7aa7557   facebook    7 - Sunday   \n",
       "2  00f5d532-ed58-4570-b6d2-768df5f41aed    twitter   2 - Tuesday   \n",
       "3  011adc64-0f44-4fd9-a0bb-f1506d2ad439     google   2 - Tuesday   \n",
       "4  012137e6-7ae7-4649-af68-205b4702169c   facebook    7 - Sunday   \n",
       "\n",
       "  ad_click_timestamp experimental_group  \n",
       "0              07:18                  A  \n",
       "1                NaN                  B  \n",
       "2                NaN                  A  \n",
       "3                NaN                  B  \n",
       "4                NaN                  B  "
      ]
     },
     "execution_count": 27,
     "metadata": {},
     "output_type": "execute_result"
    }
   ],
   "source": [
    "# loading csv file\n",
    "ad_clicks = pd.read_csv('ad_sources.csv')\n",
    "# another way, by specifying the path: ad_clicks = pd.read_csv('C:\\\\Users\\\\Admin\\\\Desktop\\\\py4e\\\\Codecademy\\\\ab_testing\\\\ad_sources.csv',sep=',')\n",
    "ad_clicks.head()"
   ]
  },
  {
   "cell_type": "code",
   "execution_count": 28,
   "id": "d2cfe061",
   "metadata": {},
   "outputs": [
    {
     "data": {
      "text/plain": [
       "Index(['user_id', 'utm_source', 'day', 'ad_click_timestamp',\n",
       "       'experimental_group'],\n",
       "      dtype='object')"
      ]
     },
     "execution_count": 28,
     "metadata": {},
     "output_type": "execute_result"
    }
   ],
   "source": [
    "(ad_clicks.columns)"
   ]
  },
  {
   "cell_type": "markdown",
   "id": "03b65b74",
   "metadata": {},
   "source": [
    "2.\n",
    "\n",
    "The manager wants to know which ad platform is getting the most views.\n",
    "\n",
    "How many views came from each utm_source?"
   ]
  },
  {
   "cell_type": "code",
   "execution_count": 32,
   "id": "5007f9ff",
   "metadata": {},
   "outputs": [
    {
     "data": {
      "text/html": [
       "<div>\n",
       "<style scoped>\n",
       "    .dataframe tbody tr th:only-of-type {\n",
       "        vertical-align: middle;\n",
       "    }\n",
       "\n",
       "    .dataframe tbody tr th {\n",
       "        vertical-align: top;\n",
       "    }\n",
       "\n",
       "    .dataframe thead th {\n",
       "        text-align: right;\n",
       "    }\n",
       "</style>\n",
       "<table border=\"1\" class=\"dataframe\">\n",
       "  <thead>\n",
       "    <tr style=\"text-align: right;\">\n",
       "      <th></th>\n",
       "      <th>utm_source</th>\n",
       "      <th>user_id</th>\n",
       "    </tr>\n",
       "  </thead>\n",
       "  <tbody>\n",
       "    <tr>\n",
       "      <th>0</th>\n",
       "      <td>google</td>\n",
       "      <td>680</td>\n",
       "    </tr>\n",
       "    <tr>\n",
       "      <th>1</th>\n",
       "      <td>facebook</td>\n",
       "      <td>504</td>\n",
       "    </tr>\n",
       "    <tr>\n",
       "      <th>2</th>\n",
       "      <td>email</td>\n",
       "      <td>255</td>\n",
       "    </tr>\n",
       "    <tr>\n",
       "      <th>3</th>\n",
       "      <td>twitter</td>\n",
       "      <td>215</td>\n",
       "    </tr>\n",
       "  </tbody>\n",
       "</table>\n",
       "</div>"
      ],
      "text/plain": [
       "  utm_source  user_id\n",
       "0     google      680\n",
       "1   facebook      504\n",
       "2      email      255\n",
       "3    twitter      215"
      ]
     },
     "execution_count": 32,
     "metadata": {},
     "output_type": "execute_result"
    }
   ],
   "source": [
    "# 2. Views byt utm_source\n",
    "utm_views = ad_clicks.groupby('utm_source').user_id.count().\\\n",
    "  sort_values(ascending=False).reset_index()\n",
    "utm_views"
   ]
  },
  {
   "cell_type": "markdown",
   "id": "423acc9d",
   "metadata": {},
   "source": [
    "3.\n",
    "\n",
    "If the column ad_click_timestamp is not null, it means someone actually clicked on the ad that was displayed.\n",
    "\n",
    "We will add a new column called 'is_click', which is True if ad_click_timestamp is not null and False otherwise."
   ]
  },
  {
   "cell_type": "code",
   "execution_count": 33,
   "id": "17f53036",
   "metadata": {},
   "outputs": [
    {
     "data": {
      "text/html": [
       "<div>\n",
       "<style scoped>\n",
       "    .dataframe tbody tr th:only-of-type {\n",
       "        vertical-align: middle;\n",
       "    }\n",
       "\n",
       "    .dataframe tbody tr th {\n",
       "        vertical-align: top;\n",
       "    }\n",
       "\n",
       "    .dataframe thead th {\n",
       "        text-align: right;\n",
       "    }\n",
       "</style>\n",
       "<table border=\"1\" class=\"dataframe\">\n",
       "  <thead>\n",
       "    <tr style=\"text-align: right;\">\n",
       "      <th></th>\n",
       "      <th>user_id</th>\n",
       "      <th>utm_source</th>\n",
       "      <th>day</th>\n",
       "      <th>ad_click_timestamp</th>\n",
       "      <th>experimental_group</th>\n",
       "      <th>is_click</th>\n",
       "    </tr>\n",
       "  </thead>\n",
       "  <tbody>\n",
       "    <tr>\n",
       "      <th>0</th>\n",
       "      <td>008b7c6c-7272-471e-b90e-930d548bd8d7</td>\n",
       "      <td>google</td>\n",
       "      <td>6 - Saturday</td>\n",
       "      <td>07:18</td>\n",
       "      <td>A</td>\n",
       "      <td>True</td>\n",
       "    </tr>\n",
       "    <tr>\n",
       "      <th>1</th>\n",
       "      <td>009abb94-5e14-4b6c-bb1c-4f4df7aa7557</td>\n",
       "      <td>facebook</td>\n",
       "      <td>7 - Sunday</td>\n",
       "      <td>NaN</td>\n",
       "      <td>B</td>\n",
       "      <td>False</td>\n",
       "    </tr>\n",
       "    <tr>\n",
       "      <th>2</th>\n",
       "      <td>00f5d532-ed58-4570-b6d2-768df5f41aed</td>\n",
       "      <td>twitter</td>\n",
       "      <td>2 - Tuesday</td>\n",
       "      <td>NaN</td>\n",
       "      <td>A</td>\n",
       "      <td>False</td>\n",
       "    </tr>\n",
       "    <tr>\n",
       "      <th>3</th>\n",
       "      <td>011adc64-0f44-4fd9-a0bb-f1506d2ad439</td>\n",
       "      <td>google</td>\n",
       "      <td>2 - Tuesday</td>\n",
       "      <td>NaN</td>\n",
       "      <td>B</td>\n",
       "      <td>False</td>\n",
       "    </tr>\n",
       "    <tr>\n",
       "      <th>4</th>\n",
       "      <td>012137e6-7ae7-4649-af68-205b4702169c</td>\n",
       "      <td>facebook</td>\n",
       "      <td>7 - Sunday</td>\n",
       "      <td>NaN</td>\n",
       "      <td>B</td>\n",
       "      <td>False</td>\n",
       "    </tr>\n",
       "  </tbody>\n",
       "</table>\n",
       "</div>"
      ],
      "text/plain": [
       "                                user_id utm_source           day  \\\n",
       "0  008b7c6c-7272-471e-b90e-930d548bd8d7     google  6 - Saturday   \n",
       "1  009abb94-5e14-4b6c-bb1c-4f4df7aa7557   facebook    7 - Sunday   \n",
       "2  00f5d532-ed58-4570-b6d2-768df5f41aed    twitter   2 - Tuesday   \n",
       "3  011adc64-0f44-4fd9-a0bb-f1506d2ad439     google   2 - Tuesday   \n",
       "4  012137e6-7ae7-4649-af68-205b4702169c   facebook    7 - Sunday   \n",
       "\n",
       "  ad_click_timestamp experimental_group  is_click  \n",
       "0              07:18                  A      True  \n",
       "1                NaN                  B     False  \n",
       "2                NaN                  A     False  \n",
       "3                NaN                  B     False  \n",
       "4                NaN                  B     False  "
      ]
     },
     "execution_count": 33,
     "metadata": {},
     "output_type": "execute_result"
    }
   ],
   "source": [
    "#3. New Clicks column\n",
    "ad_clicks['is_click'] = ~ad_clicks.ad_click_timestamp.isnull()\n",
    "ad_clicks.head()\n"
   ]
  },
  {
   "cell_type": "markdown",
   "id": "81cf582d",
   "metadata": {},
   "source": [
    "4.\n",
    "\n",
    "We want to know the percent of people who clicked on ads from each utm_source.\n",
    "\n",
    "Start by grouping by utm_source and is_click and counting the number of user_id‘s in each of those groups. Save your answer to the variable clicks_by_source."
   ]
  },
  {
   "cell_type": "code",
   "execution_count": 35,
   "id": "9f1f49a4",
   "metadata": {},
   "outputs": [
    {
     "data": {
      "text/html": [
       "<div>\n",
       "<style scoped>\n",
       "    .dataframe tbody tr th:only-of-type {\n",
       "        vertical-align: middle;\n",
       "    }\n",
       "\n",
       "    .dataframe tbody tr th {\n",
       "        vertical-align: top;\n",
       "    }\n",
       "\n",
       "    .dataframe thead th {\n",
       "        text-align: right;\n",
       "    }\n",
       "</style>\n",
       "<table border=\"1\" class=\"dataframe\">\n",
       "  <thead>\n",
       "    <tr style=\"text-align: right;\">\n",
       "      <th></th>\n",
       "      <th>utm_source</th>\n",
       "      <th>is_click</th>\n",
       "      <th>user_id</th>\n",
       "    </tr>\n",
       "  </thead>\n",
       "  <tbody>\n",
       "    <tr>\n",
       "      <th>0</th>\n",
       "      <td>email</td>\n",
       "      <td>False</td>\n",
       "      <td>175</td>\n",
       "    </tr>\n",
       "    <tr>\n",
       "      <th>1</th>\n",
       "      <td>email</td>\n",
       "      <td>True</td>\n",
       "      <td>80</td>\n",
       "    </tr>\n",
       "    <tr>\n",
       "      <th>2</th>\n",
       "      <td>facebook</td>\n",
       "      <td>False</td>\n",
       "      <td>324</td>\n",
       "    </tr>\n",
       "    <tr>\n",
       "      <th>3</th>\n",
       "      <td>facebook</td>\n",
       "      <td>True</td>\n",
       "      <td>180</td>\n",
       "    </tr>\n",
       "    <tr>\n",
       "      <th>4</th>\n",
       "      <td>google</td>\n",
       "      <td>False</td>\n",
       "      <td>441</td>\n",
       "    </tr>\n",
       "    <tr>\n",
       "      <th>5</th>\n",
       "      <td>google</td>\n",
       "      <td>True</td>\n",
       "      <td>239</td>\n",
       "    </tr>\n",
       "    <tr>\n",
       "      <th>6</th>\n",
       "      <td>twitter</td>\n",
       "      <td>False</td>\n",
       "      <td>149</td>\n",
       "    </tr>\n",
       "    <tr>\n",
       "      <th>7</th>\n",
       "      <td>twitter</td>\n",
       "      <td>True</td>\n",
       "      <td>66</td>\n",
       "    </tr>\n",
       "  </tbody>\n",
       "</table>\n",
       "</div>"
      ],
      "text/plain": [
       "  utm_source  is_click  user_id\n",
       "0      email     False      175\n",
       "1      email      True       80\n",
       "2   facebook     False      324\n",
       "3   facebook      True      180\n",
       "4     google     False      441\n",
       "5     google      True      239\n",
       "6    twitter     False      149\n",
       "7    twitter      True       66"
      ]
     },
     "execution_count": 35,
     "metadata": {},
     "output_type": "execute_result"
    }
   ],
   "source": [
    "#4. Clicks by source\n",
    "clicks_by_source = ad_clicks.groupby(['utm_source','is_click'])\\\n",
    "  .user_id.count().reset_index()\n",
    "clicks_by_source\n"
   ]
  },
  {
   "cell_type": "markdown",
   "id": "fe947ae0",
   "metadata": {},
   "source": [
    "5.\n",
    "\n",
    "The data as it is, it is not very easy to read, it needs to be reshaped, so we will create a pivot table from it to know which users clicked on the ad, based on the utm_source."
   ]
  },
  {
   "cell_type": "code",
   "execution_count": 37,
   "id": "19806d8b",
   "metadata": {},
   "outputs": [
    {
     "data": {
      "text/html": [
       "<div>\n",
       "<style scoped>\n",
       "    .dataframe tbody tr th:only-of-type {\n",
       "        vertical-align: middle;\n",
       "    }\n",
       "\n",
       "    .dataframe tbody tr th {\n",
       "        vertical-align: top;\n",
       "    }\n",
       "\n",
       "    .dataframe thead th {\n",
       "        text-align: right;\n",
       "    }\n",
       "</style>\n",
       "<table border=\"1\" class=\"dataframe\">\n",
       "  <thead>\n",
       "    <tr style=\"text-align: right;\">\n",
       "      <th>is_click</th>\n",
       "      <th>utm_source</th>\n",
       "      <th>False</th>\n",
       "      <th>True</th>\n",
       "    </tr>\n",
       "  </thead>\n",
       "  <tbody>\n",
       "    <tr>\n",
       "      <th>0</th>\n",
       "      <td>email</td>\n",
       "      <td>175</td>\n",
       "      <td>80</td>\n",
       "    </tr>\n",
       "    <tr>\n",
       "      <th>1</th>\n",
       "      <td>facebook</td>\n",
       "      <td>324</td>\n",
       "      <td>180</td>\n",
       "    </tr>\n",
       "    <tr>\n",
       "      <th>2</th>\n",
       "      <td>google</td>\n",
       "      <td>441</td>\n",
       "      <td>239</td>\n",
       "    </tr>\n",
       "    <tr>\n",
       "      <th>3</th>\n",
       "      <td>twitter</td>\n",
       "      <td>149</td>\n",
       "      <td>66</td>\n",
       "    </tr>\n",
       "  </tbody>\n",
       "</table>\n",
       "</div>"
      ],
      "text/plain": [
       "is_click utm_source  False  True\n",
       "0             email    175    80\n",
       "1          facebook    324   180\n",
       "2            google    441   239\n",
       "3           twitter    149    66"
      ]
     },
     "execution_count": 37,
     "metadata": {},
     "output_type": "execute_result"
    }
   ],
   "source": [
    "#5. Clicks Pivot table \n",
    "clicks_pivot = clicks_by_source.pivot(\n",
    "  columns= 'is_click',\n",
    "  index= 'utm_source',\n",
    "  values='user_id'\n",
    ").reset_index()\n",
    "\n",
    "clicks_pivot"
   ]
  },
  {
   "cell_type": "markdown",
   "id": "08d0c5f6",
   "metadata": {},
   "source": [
    "6.\n",
    "\n",
    "Now we will create a new column in `clicks_pivot` called *percent_clicked* which is equal to the percent of users who clicked on the ad from each utm_source.\n"
   ]
  },
  {
   "cell_type": "code",
   "execution_count": 59,
   "id": "86b3ed5e",
   "metadata": {},
   "outputs": [
    {
     "data": {
      "text/html": [
       "<div>\n",
       "<style scoped>\n",
       "    .dataframe tbody tr th:only-of-type {\n",
       "        vertical-align: middle;\n",
       "    }\n",
       "\n",
       "    .dataframe tbody tr th {\n",
       "        vertical-align: top;\n",
       "    }\n",
       "\n",
       "    .dataframe thead th {\n",
       "        text-align: right;\n",
       "    }\n",
       "</style>\n",
       "<table border=\"1\" class=\"dataframe\">\n",
       "  <thead>\n",
       "    <tr style=\"text-align: right;\">\n",
       "      <th>is_click</th>\n",
       "      <th>utm_source</th>\n",
       "      <th>False</th>\n",
       "      <th>True</th>\n",
       "      <th>percent_clicked</th>\n",
       "    </tr>\n",
       "  </thead>\n",
       "  <tbody>\n",
       "    <tr>\n",
       "      <th>0</th>\n",
       "      <td>email</td>\n",
       "      <td>175</td>\n",
       "      <td>80</td>\n",
       "      <td>31.4</td>\n",
       "    </tr>\n",
       "    <tr>\n",
       "      <th>1</th>\n",
       "      <td>facebook</td>\n",
       "      <td>324</td>\n",
       "      <td>180</td>\n",
       "      <td>35.7</td>\n",
       "    </tr>\n",
       "    <tr>\n",
       "      <th>2</th>\n",
       "      <td>google</td>\n",
       "      <td>441</td>\n",
       "      <td>239</td>\n",
       "      <td>35.1</td>\n",
       "    </tr>\n",
       "    <tr>\n",
       "      <th>3</th>\n",
       "      <td>twitter</td>\n",
       "      <td>149</td>\n",
       "      <td>66</td>\n",
       "      <td>30.7</td>\n",
       "    </tr>\n",
       "  </tbody>\n",
       "</table>\n",
       "</div>"
      ],
      "text/plain": [
       "is_click utm_source  False  True  percent_clicked\n",
       "0             email    175    80             31.4\n",
       "1          facebook    324   180             35.7\n",
       "2            google    441   239             35.1\n",
       "3           twitter    149    66             30.7"
      ]
     },
     "execution_count": 59,
     "metadata": {},
     "output_type": "execute_result"
    }
   ],
   "source": [
    "#6. clicks percentage \n",
    "clicks_pivot['percent_clicked'] = round((clicks_pivot[True] / \\\n",
    "  (clicks_pivot[True] + clicks_pivot[False]))*100,1)\n",
    "clicks_pivot"
   ]
  },
  {
   "cell_type": "markdown",
   "id": "64bdf699",
   "metadata": {},
   "source": [
    "The best two click conversions came from Facebook and then Google, the least conversions came from Twitter. "
   ]
  },
  {
   "cell_type": "markdown",
   "id": "d66c1c26",
   "metadata": {},
   "source": [
    "## Analyzing an A/B Test"
   ]
  },
  {
   "cell_type": "markdown",
   "id": "a608f5f6",
   "metadata": {},
   "source": [
    "7.\n",
    "\n",
    "The column *experimental_group* tells us whether the user was shown Ad A or B.\n",
    "\n",
    "Let's see if there were the same number of people shown both adds."
   ]
  },
  {
   "cell_type": "code",
   "execution_count": 46,
   "id": "2cedf6f0",
   "metadata": {},
   "outputs": [
    {
     "name": "stdout",
     "output_type": "stream",
     "text": [
      "  experimental_group  user_id\n",
      "0                  A      827\n",
      "1                  B      827\n"
     ]
    }
   ],
   "source": [
    "#7. A & B count for each experimental group \n",
    "ab_count = ad_clicks.groupby('experimental_group').user_id.count().reset_index()\n",
    "print(ab_count) "
   ]
  },
  {
   "cell_type": "markdown",
   "id": "5d2edacc",
   "metadata": {},
   "source": [
    "The number of ads were shown to the same number of people"
   ]
  },
  {
   "cell_type": "markdown",
   "id": "77c38544",
   "metadata": {},
   "source": [
    "8.\n",
    "\n",
    "Using the column is_click that we defined earlier, check to see if a greater percentage of users clicked on Ad A or B."
   ]
  },
  {
   "cell_type": "code",
   "execution_count": 47,
   "id": "4312c711",
   "metadata": {},
   "outputs": [
    {
     "data": {
      "text/html": [
       "<div>\n",
       "<style scoped>\n",
       "    .dataframe tbody tr th:only-of-type {\n",
       "        vertical-align: middle;\n",
       "    }\n",
       "\n",
       "    .dataframe tbody tr th {\n",
       "        vertical-align: top;\n",
       "    }\n",
       "\n",
       "    .dataframe thead th {\n",
       "        text-align: right;\n",
       "    }\n",
       "</style>\n",
       "<table border=\"1\" class=\"dataframe\">\n",
       "  <thead>\n",
       "    <tr style=\"text-align: right;\">\n",
       "      <th>is_click</th>\n",
       "      <th>experimental_group</th>\n",
       "      <th>False</th>\n",
       "      <th>True</th>\n",
       "      <th>percent_clicked</th>\n",
       "    </tr>\n",
       "  </thead>\n",
       "  <tbody>\n",
       "    <tr>\n",
       "      <th>0</th>\n",
       "      <td>A</td>\n",
       "      <td>517</td>\n",
       "      <td>310</td>\n",
       "      <td>0.374849</td>\n",
       "    </tr>\n",
       "    <tr>\n",
       "      <th>1</th>\n",
       "      <td>B</td>\n",
       "      <td>572</td>\n",
       "      <td>255</td>\n",
       "      <td>0.308343</td>\n",
       "    </tr>\n",
       "  </tbody>\n",
       "</table>\n",
       "</div>"
      ],
      "text/plain": [
       "is_click experimental_group  False  True  percent_clicked\n",
       "0                         A    517   310         0.374849\n",
       "1                         B    572   255         0.308343"
      ]
     },
     "execution_count": 47,
     "metadata": {},
     "output_type": "execute_result"
    }
   ],
   "source": [
    "#8. True and False of each Experimental group\n",
    "\n",
    "ab_tf = ad_clicks.groupby(['experimental_group','is_click'])\\\n",
    "  .user_id.count().reset_index()\n",
    "ab_pivot = ab_tf.pivot(\n",
    "  columns='is_click',\n",
    "  index='experimental_group',\n",
    "  values='user_id'\n",
    ").reset_index()\n",
    "\n",
    "ab_pivot['percent_clicked'] = ab_pivot[True]/ \\\n",
    "  (ab_pivot[True]+ab_pivot[False])\n",
    "\n",
    "(ab_pivot)"
   ]
  },
  {
   "cell_type": "markdown",
   "id": "bdb37c75",
   "metadata": {},
   "source": [
    "Group A had a greater conversion rate, they clicked more on the ads that they were shown."
   ]
  },
  {
   "cell_type": "markdown",
   "id": "57a14508",
   "metadata": {},
   "source": [
    "9.\n",
    "\n",
    "The Product Manager for the A/B test thinks that the clicks might have changed by day of the week.\n",
    "\n",
    "We will start by creating 2 DataFrames: `a_clicks` and `b_clicks`, which contain only the results for A group and B group, respectively."
   ]
  },
  {
   "cell_type": "code",
   "execution_count": 67,
   "id": "ea0f1692",
   "metadata": {},
   "outputs": [],
   "source": [
    "#9. Data frames by experimental group (a & b)\n",
    "\n",
    "a_clicks = ad_clicks[ad_clicks.experimental_group == \"A\"]\n",
    "b_clicks = ad_clicks[ad_clicks.experimental_group == \"B\"]"
   ]
  },
  {
   "cell_type": "markdown",
   "id": "c6c799c8",
   "metadata": {},
   "source": [
    "10.\n",
    "\n",
    "Now for each group (a_clicks and b_clicks), we will calculate the percent of users who clicked on the ad by day."
   ]
  },
  {
   "cell_type": "code",
   "execution_count": 78,
   "id": "d5416072",
   "metadata": {},
   "outputs": [
    {
     "name": "stdout",
     "output_type": "stream",
     "text": [
      "is_click            day  False  True  percent_clicked\n",
      "0            1 - Monday     70    43         0.380531\n",
      "1           2 - Tuesday     76    43         0.361345\n",
      "2         3 - Wednesday     86    38         0.306452\n",
      "3          4 - Thursday     69    47         0.405172\n",
      "4            5 - Friday     77    51         0.398438\n",
      "5          6 - Saturday     73    45         0.381356\n",
      "6            7 - Sunday     66    43         0.394495\n",
      "is_click            day  False  True  percent_clicked\n",
      "0            1 - Monday     81    32         0.283186\n",
      "1           2 - Tuesday     74    45         0.378151\n",
      "2         3 - Wednesday     89    35         0.282258\n",
      "3          4 - Thursday     87    29         0.250000\n",
      "4            5 - Friday     90    38         0.296875\n",
      "5          6 - Saturday     76    42         0.355932\n",
      "6            7 - Sunday     75    34         0.311927\n"
     ]
    }
   ],
   "source": [
    "# A \n",
    "a_click_pivot = a_clicks.groupby(['is_click','day'])\\\n",
    "  .user_id.count().reset_index()\\\n",
    "  .pivot(index='day',columns='is_click',values='user_id').reset_index()\n",
    "\n",
    "a_click_pivot['percent_clicked'] = a_click_pivot[True]/ \\\n",
    "  (a_click_pivot[True]+a_click_pivot[False])\n",
    "\n",
    "# B \n",
    "b_click_pivot = b_clicks.groupby(['is_click','day'])\\\n",
    "  .user_id.count().reset_index()\\\n",
    "  .pivot(index='day',columns='is_click',values='user_id').reset_index()\n",
    "\n",
    "b_click_pivot['percent_clicked'] = b_click_pivot[True]/ \\\n",
    "  (b_click_pivot[True]+b_click_pivot[False])\n",
    "\n",
    "print(a_click_pivot)\n",
    "print(b_click_pivot)\n"
   ]
  },
  {
   "cell_type": "markdown",
   "id": "4d8860fc",
   "metadata": {},
   "source": [
    "Nummerically, we can see that the A group, had a higher conversion rate in generall, but it is not easy to read, so a graph will be created. "
   ]
  },
  {
   "cell_type": "markdown",
   "id": "c7aea1c4",
   "metadata": {},
   "source": [
    "11.\n",
    "\n",
    "Plot "
   ]
  },
  {
   "cell_type": "code",
   "execution_count": 158,
   "id": "8ee5193e",
   "metadata": {},
   "outputs": [
    {
     "data": {
      "image/png": "[encoded data removed]",
      "text/plain": [
       "<Figure size 432x288 with 1 Axes>"
      ]
     },
     "metadata": {
      "needs_background": "light"
     },
     "output_type": "display_data"
    }
   ],
   "source": [
    "x = [\"Monday\",\"Tuesday\",\"Wednesday\",\"Thursday\",\"Friday\",\"Saturday\",\"Sunday\"]\n",
    "a_clicks_p = list(round(a_click_pivot.percent_clicked,2)*100)\n",
    "b_clicks_p = list(round(b_click_pivot.percent_clicked,2)*100)\n",
    "width = 0.3\n",
    "pos = np.arange(len(x))\n",
    "group = ['A','B']\n",
    "\n",
    "plt.bar(np.arange(len(a_clicks_p)), a_clicks_p, width=width)\n",
    "plt.bar(np.arange(len(b_clicks_p))+width, b_clicks_p, width=width)\n",
    "\n",
    "plt.title ('Percent Clicked by Day',fontsize=15)\n",
    "plt.xlabel('Day of the Week',fontsize=13)\n",
    "plt.xticks(pos,x)\n",
    "plt.ylabel('Percent Clicked',fontsize=13)\n",
    "\n",
    "plt.legend(group,loc=2)\n",
    "\n",
    "plt.show()"
   ]
  },
  {
   "cell_type": "markdown",
   "id": "e1e98f36",
   "metadata": {},
   "source": [
    "As we can see, in all days except for Tuesdays, **Ad A had a greater conversion rate** than B; so ad A should be selected if an ad campaign is to be launched. "
   ]
  }
 ],
 "metadata": {
  "kernelspec": {
   "display_name": "Python 3",
   "language": "python",
   "name": "python3"
  },
  "language_info": {
   "codemirror_mode": {
    "name": "ipython",
    "version": 3
   },
   "file_extension": ".py",
   "mimetype": "text/x-python",
   "name": "python",
   "nbconvert_exporter": "python",
   "pygments_lexer": "ipython3",
   "version": "3.8.8"
  }
 },
 "nbformat": 4,
 "nbformat_minor": 5
}
